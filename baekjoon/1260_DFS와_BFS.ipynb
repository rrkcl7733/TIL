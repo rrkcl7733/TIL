{
 "cells": [
  {
   "cell_type": "code",
   "execution_count": 16,
   "id": "8e9216b8",
   "metadata": {},
   "outputs": [
    {
     "name": "stdout",
     "output_type": "stream",
     "text": [
      "5 5 3\n",
      "5 4\n",
      "5 2\n",
      "1 2\n",
      "3 4\n",
      "3 1\n",
      "3 1 2 5 4 \n",
      "3 1 4 2 5 "
     ]
    }
   ],
   "source": [
    "from collections import deque\n",
    "\n",
    "\n",
    "def dfs(v):\n",
    "    print(v, end=' ')\n",
    "    if not graph[v].count(1):\n",
    "        return\n",
    "    for i in range(1, n + 1):\n",
    "        if graph[v][i] == 1 and visited[i] == 0:\n",
    "            visited[v], visited[i] = 1, 1\n",
    "            dfs(i)\n",
    "\n",
    "\n",
    "def bfs(v):\n",
    "    q.append(v)\n",
    "    print(v, end=' ')\n",
    "    visited[v] = 1\n",
    "    while q:\n",
    "        x = q.popleft()\n",
    "        for i in range(1, n + 1):\n",
    "            if graph[x][i] == 1 and visited[i] == 0:\n",
    "                q.append(i)\n",
    "                print(i, end=' ')\n",
    "                visited[i] = 1\n",
    "\n",
    "n, m, v = map(int, input().split())\n",
    "arr = [list(map(int, input().split())) for _ in range(m)]\n",
    "graph = [[0] * (n + 1) for _ in range(n + 1)]\n",
    "visited = [0] * (n + 1)\n",
    "q = deque()\n",
    "for i in arr:\n",
    "    graph[i[0]][i[1]], graph[i[1]][i[0]] = 1, 1\n",
    "dfs(v)\n",
    "print()\n",
    "visited = [0] * (n + 1)\n",
    "bfs(v)"
   ]
  },
  {
   "cell_type": "markdown",
   "id": "3b790667",
   "metadata": {},
   "source": [
    "---"
   ]
  },
  {
   "cell_type": "markdown",
   "id": "eee5bdfe",
   "metadata": {},
   "source": [
    "간선이 양방향이기 때문에 visited 에 기록할 때 시작점,끝점을 동시에 표시\n",
    "dfs 는 재귀, bfs는 queue 이용"
   ]
  }
 ],
 "metadata": {
  "kernelspec": {
   "display_name": "Python 3 (ipykernel)",
   "language": "python",
   "name": "python3"
  },
  "language_info": {
   "codemirror_mode": {
    "name": "ipython",
    "version": 3
   },
   "file_extension": ".py",
   "mimetype": "text/x-python",
   "name": "python",
   "nbconvert_exporter": "python",
   "pygments_lexer": "ipython3",
   "version": "3.8.8"
  }
 },
 "nbformat": 4,
 "nbformat_minor": 5
}
