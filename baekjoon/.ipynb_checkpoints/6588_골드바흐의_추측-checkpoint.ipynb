{
 "cells": [
  {
   "cell_type": "code",
   "execution_count": 1,
   "id": "a604c62d",
   "metadata": {},
   "outputs": [
    {
     "name": "stdout",
     "output_type": "stream",
     "text": [
      "20\n",
      "20 = 3 + 17\n",
      "99998\n",
      "99998 = 7 + 99991\n",
      "0\n"
     ]
    }
   ],
   "source": [
    "che = [0] * (1000000 + 1)\n",
    "\n",
    "for i in range(2, int(1000000 ** .5) + 1):\n",
    "    if che[i] != 1:\n",
    "        for j in range(2 * i, 1000000 + 1, i):\n",
    "            che[j] = 1\n",
    "\n",
    "while True:\n",
    "    n = int(input())\n",
    "    if not n:\n",
    "        break\n",
    "    for i in range(2, n):\n",
    "        if che[i] == 0 and che[n - i] == 0:\n",
    "            a, b = i, n - i\n",
    "            break\n",
    "    print(f'{n} = {a} + {b}')"
   ]
  },
  {
   "cell_type": "markdown",
   "id": "cc24e0fe",
   "metadata": {},
   "source": [
    "6 <= 짝수 <= 1백만    의 입력을 받아 범위가 가장 큰 소수의 합으로 나타내는 것.\n",
    "에라토스테네스 체를 이용해 소수 판별 후 0에 해당하는 인덱스를 배열에 추가. 그 배열에서 합이 n이 되는 것을 찾음\n",
    "> 시간초과 해결 방법\n",
    "\n",
    "1. 에라토스테네스 체를 while 문 밖에 배치하여 테케마다 실행되지 않도록 함\n",
    "( 가능했던 이유 : 입력받는 자연수의 범위가 주어졌기 때문에 미리 구해놓음)\n",
    "2. 배열에 굳이 숫자를 저장하지 않고 che 의 값이 0인 인덱스를 구해서 O(N) 의 과정을 거치지 않음\n",
    "3. 가장 앞에서 부터 합이 있는 수를 찾으면 그것이 가장 b - a 가 최대 이므로 break."
   ]
  }
 ],
 "metadata": {
  "kernelspec": {
   "display_name": "Python 3 (ipykernel)",
   "language": "python",
   "name": "python3"
  },
  "language_info": {
   "codemirror_mode": {
    "name": "ipython",
    "version": 3
   },
   "file_extension": ".py",
   "mimetype": "text/x-python",
   "name": "python",
   "nbconvert_exporter": "python",
   "pygments_lexer": "ipython3",
   "version": "3.8.8"
  }
 },
 "nbformat": 4,
 "nbformat_minor": 5
}
