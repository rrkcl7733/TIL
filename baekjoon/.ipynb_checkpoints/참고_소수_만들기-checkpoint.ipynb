{
 "cells": [
  {
   "cell_type": "code",
   "execution_count": 1,
   "id": "f10d9eba",
   "metadata": {},
   "outputs": [
    {
     "name": "stdout",
     "output_type": "stream",
     "text": [
      "20\n",
      "[0, 0, 0, 0, 1, 0, 1, 0, 1, 1, 1, 0, 1, 0, 1, 1, 1, 0, 1, 0, 1]\n"
     ]
    }
   ],
   "source": [
    "n = int(input())\n",
    "che = [0] * (n + 1)\n",
    "for i in range(2, int(n ** .5) + 1):\n",
    "    if che[i] != 1:\n",
    "        for j in range(2 * i, n + 1, i):\n",
    "            che[j] = 1\n",
    "print(che)"
   ]
  },
  {
   "cell_type": "markdown",
   "id": "3b57f72d",
   "metadata": {},
   "source": [
    "---"
   ]
  },
  {
   "cell_type": "markdown",
   "id": "1a984aba",
   "metadata": {},
   "source": [
    "### 에라토스테네스의 체\n",
    "**소수 구하기 알고리즘**\n",
    "1. 2 제외 2 배수 전부 탈락\n",
    "2. 3 제외 3 배수 전부 탈락\n",
    "3. 4는 1 에서 제외당함\n",
    "4. 5 제외 5 배수 전부 탈락\n",
    "5. 6은 1 에서 제외당함\n",
    "6. 7 제외 7 배수 전부 탈락\n",
    "---\n",
    ">che 배열의 값이 0으로 남아있다면 그 인덱스가 소수!\n",
    "\n",
    "첫 번째 for 문 : 에서 범위가 int($\\sqrt{n}$) 인 이유: 소수가 아니면 두 수의 곱으로 구성 돼있는데 둘 중 하나라도 $\\sqrt{n}$ 안에서 검출되지 않는 다는 사실만으로 소수 판별이 가능하기 때문**!**<br>\n",
    "<br>\n",
    "두 번째 for 문 : 앞의 if에서 확인한 소수에 대해 배수 제거하는 작업 할 것임, 시작은 *2 부터, 간격은 소수 만큼."
   ]
  },
  {
   "cell_type": "code",
   "execution_count": null,
   "id": "7c062289",
   "metadata": {},
   "outputs": [],
   "source": []
  }
 ],
 "metadata": {
  "kernelspec": {
   "display_name": "Python 3 (ipykernel)",
   "language": "python",
   "name": "python3"
  },
  "language_info": {
   "codemirror_mode": {
    "name": "ipython",
    "version": 3
   },
   "file_extension": ".py",
   "mimetype": "text/x-python",
   "name": "python",
   "nbconvert_exporter": "python",
   "pygments_lexer": "ipython3",
   "version": "3.8.8"
  }
 },
 "nbformat": 4,
 "nbformat_minor": 5
}
