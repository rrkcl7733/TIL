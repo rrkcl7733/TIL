{
 "cells": [
  {
   "cell_type": "code",
   "execution_count": null,
   "id": "8e9216b8",
   "metadata": {},
   "outputs": [],
   "source": [
    "m = int(input())\n",
    "n = int(input())\n",
    "tot = []\n",
    "for i in range(m, n + 1):\n",
    "    if (i ** .5).is_integer():\n",
    "        tot += [i]\n",
    "if tot:\n",
    "    print(sum(tot), tot[0], sep='\\n')\n",
    "else:\n",
    "    print(-1)"
   ]
  }
 ],
 "metadata": {
  "kernelspec": {
   "display_name": "Python 3 (ipykernel)",
   "language": "python",
   "name": "python3"
  },
  "language_info": {
   "codemirror_mode": {
    "name": "ipython",
    "version": 3
   },
   "file_extension": ".py",
   "mimetype": "text/x-python",
   "name": "python",
   "nbconvert_exporter": "python",
   "pygments_lexer": "ipython3",
   "version": "3.8.8"
  }
 },
 "nbformat": 4,
 "nbformat_minor": 5
}
