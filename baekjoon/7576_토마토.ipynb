{
 "cells": [
  {
   "cell_type": "code",
   "execution_count": 2,
   "id": "8e9216b8",
   "metadata": {},
   "outputs": [
    {
     "name": "stdout",
     "output_type": "stream",
     "text": [
      "6 4\n",
      "0 -1 0 0 0 0\n",
      "-1 0 0 0 0 0\n",
      "0 0 0 0 0 0\n",
      "0 0 0 0 0 1\n",
      "-1\n"
     ]
    }
   ],
   "source": [
    "from collections import deque\n",
    "\n",
    "def bfs(n, m):\n",
    "    visited = [[0] * m for _ in range(n)]\n",
    "    q = deque()\n",
    "    cnt = 0         # 안 익은 토마토 있는지?\n",
    "    for i in range(n):\n",
    "        for j in range(m):\n",
    "            if tomato[i][j] == 1:\n",
    "                q.append((i, j))\n",
    "            elif not tomato[i][j]:\n",
    "                cnt += 1\n",
    "    if not cnt and len(q) > 0:\n",
    "        return 0               # 익은 토마토만 주어진 경우\n",
    "    while q:\n",
    "        i, j = q.popleft()\n",
    "        for di, dj in [[-1, 0], [0, -1], [0, 1], [1, 0]]:\n",
    "            ni, nj = i + di, j + dj\n",
    "            if 0 <= ni < n and 0 <= nj < m and tomato[ni][nj] == 0 and visited[ni][nj] == 0:\n",
    "                q.append((ni, nj))\n",
    "                visited[ni][nj] = visited[i][j] + 1\n",
    "\n",
    "    day = 0\n",
    "    for i in range(n):\n",
    "        for j in range(m):\n",
    "            if tomato[i][j] == 0:\n",
    "                if visited[i][j] == 0:\n",
    "                    return -1          # 아직도 안 익었어?\n",
    "                elif day < visited[i][j]:\n",
    "                    day = visited[i][j]\n",
    "    return day\n",
    "\n",
    "\n",
    "m, n = map(int, input().split())\n",
    "tomato = [list(map(int, input().split())) for _ in range(n)]\n",
    "print(bfs(n, m))"
   ]
  },
  {
   "cell_type": "markdown",
   "id": "6484461d",
   "metadata": {},
   "source": [
    "우선 모든 1 토마토를 검색해서 q에 append\n",
    "그 후 4방면으로 범위 안, 토마토 0인지, visited 0 인지 확인하고 visited += 1 해서 기간 늘려감\n",
    "\n",
    "visited 의 최대값 출력"
   ]
  }
 ],
 "metadata": {
  "kernelspec": {
   "display_name": "Python 3 (ipykernel)",
   "language": "python",
   "name": "python3"
  },
  "language_info": {
   "codemirror_mode": {
    "name": "ipython",
    "version": 3
   },
   "file_extension": ".py",
   "mimetype": "text/x-python",
   "name": "python",
   "nbconvert_exporter": "python",
   "pygments_lexer": "ipython3",
   "version": "3.8.8"
  }
 },
 "nbformat": 4,
 "nbformat_minor": 5
}
