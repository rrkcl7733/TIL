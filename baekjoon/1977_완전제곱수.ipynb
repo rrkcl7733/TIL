{
 "cells": [
  {
   "cell_type": "code",
   "execution_count": 1,
   "id": "f8ed3581",
   "metadata": {},
   "outputs": [
    {
     "name": "stdout",
     "output_type": "stream",
     "text": [
      "60\n",
      "100\n",
      "245\n",
      "64\n"
     ]
    }
   ],
   "source": [
    "m = int(input())\n",
    "n = int(input())\n",
    "tot = []\n",
    "for i in range(m, n + 1):\n",
    "    if (i ** .5).is_integer():\n",
    "        tot += [i]\n",
    "if tot:\n",
    "    print(sum(tot), tot[0], sep='\\n')\n",
    "else:\n",
    "    print(-1)"
   ]
  },
  {
   "cell_type": "markdown",
   "id": "0c2c106b",
   "metadata": {},
   "source": [
    "```단순 for 문으로 제곱수 판별\n",
    "루트 씌워 소수점 없다면 정수  .is_integer()\n",
    "tot 배열에 저장```"
   ]
  }
 ],
 "metadata": {
  "kernelspec": {
   "display_name": "Python 3 (ipykernel)",
   "language": "python",
   "name": "python3"
  },
  "language_info": {
   "codemirror_mode": {
    "name": "ipython",
    "version": 3
   },
   "file_extension": ".py",
   "mimetype": "text/x-python",
   "name": "python",
   "nbconvert_exporter": "python",
   "pygments_lexer": "ipython3",
   "version": "3.8.8"
  }
 },
 "nbformat": 4,
 "nbformat_minor": 5
}
